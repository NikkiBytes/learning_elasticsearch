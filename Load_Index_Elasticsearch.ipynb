{
 "cells": [
  {
   "cell_type": "markdown",
   "id": "b5758200",
   "metadata": {},
   "source": [
    "# Testing"
   ]
  },
  {
   "cell_type": "markdown",
   "id": "0e412c72-7288-40d5-95d4-cffb02ccee08",
   "metadata": {},
   "source": [
    "Invoke-RestMethod \"http://localhost:9200/harvard/_bulk?pretty\" -Method Post -ContentType 'application/x-ndjson' -InFile \"harvard_dataverse.json\"\n"
   ]
  },
  {
   "cell_type": "code",
   "execution_count": null,
   "id": "c84f7e08",
   "metadata": {},
   "outputs": [],
   "source": [
    "from elasticsearch import Elasticsearch, helpers\n",
    "import sys, json \n",
    "from time import sleep\n",
    "from datetime import datetime\n",
    "\n"
   ]
  },
  {
   "cell_type": "markdown",
   "id": "0ff44d06-6828-4f67-8b85-823a3bfd2143",
   "metadata": {},
   "source": [
    "## Step 1.  Load and index json into ES"
   ]
  },
  {
   "cell_type": "code",
   "execution_count": null,
   "id": "59d6aaf3",
   "metadata": {},
   "outputs": [],
   "source": [
    "# Elastic search configuation\n",
    "es = Elasticsearch(HOST=\"http://localhost\", PORT=9200)\n",
    "#es = Elasticsearch()"
   ]
  },
  {
   "cell_type": "code",
   "execution_count": null,
   "id": "ac1aa8be-59fb-42da-a517-029585a1a08a",
   "metadata": {},
   "outputs": [],
   "source": [
    "q=input()"
   ]
  },
  {
   "cell_type": "code",
   "execution_count": null,
   "id": "ff2ec957-4bf7-46d3-a6e6-657549b6cd38",
   "metadata": {},
   "outputs": [],
   "source": [
    "\n",
    "query1={\n",
    "        \"query\": {\n",
    "            \"match\":{\n",
    "              \"message\": {\n",
    "                \"query\": q\n",
    "              }\n",
    "            }\n",
    "        }\n",
    "    }"
   ]
  },
  {
   "cell_type": "code",
   "execution_count": null,
   "id": "d2f431da-da31-4095-85b4-c3938c5db718",
   "metadata": {},
   "outputs": [],
   "source": [
    "res=es.search(index=\"harvardmetadata\", doc_type=\"_doc\",\n",
    "          body=query1)\n",
    "\n"
   ]
  },
  {
   "cell_type": "code",
   "execution_count": null,
   "id": "6bebaa94-e2e5-4f3e-8287-b8dd52f45e21",
   "metadata": {},
   "outputs": [],
   "source": [
    "dict_hits=(res[\"hits\"][\"hits\"])\n",
    "json_str=json.dumps(dict_hits, separators=(',', ':'), indent=4)\n",
    "type(json_str)"
   ]
  },
  {
   "cell_type": "code",
   "execution_count": null,
   "id": "3ee8f831-54a9-489f-847e-1d02cb3a6227",
   "metadata": {},
   "outputs": [],
   "source": [
    "def format_data(data):\n",
    "    print(type(data))\n",
    "    json_str=json.dumps(data, separators=(',', ':'), indent=4)\n",
    "    json_str=json_str.replace(\"\\n\", \"\")\n",
    "    print(json_str)"
   ]
  },
  {
   "cell_type": "code",
   "execution_count": null,
   "id": "8cba945c-ced1-49f1-bef1-210bfc5fb8c6",
   "metadata": {},
   "outputs": [],
   "source": [
    "type(dict_hits)\n",
    "len(dict_hits)\n",
    "for x in dict_hits:\n",
    "    print(\"----\")\n",
    "    data=x[\"_source\"][\"message\"]\n",
    "    #format_data(data\n",
    "    data"
   ]
  },
  {
   "cell_type": "code",
   "execution_count": null,
   "id": "a3358063-06d7-4dff-80b6-e14a2d806d94",
   "metadata": {},
   "outputs": [],
   "source": [
    "print(dict_hits)"
   ]
  },
  {
   "cell_type": "code",
   "execution_count": null,
   "id": "a17e069b-8888-48cb-84ea-4464ee85209c",
   "metadata": {},
   "outputs": [],
   "source": [
    "print(json_format)"
   ]
  },
  {
   "cell_type": "code",
   "execution_count": null,
   "id": "1d579de2-31f6-4364-804d-61bb45f25e9e",
   "metadata": {},
   "outputs": [],
   "source": [
    "for z in res.hits:\n",
    "    print(z)"
   ]
  },
  {
   "cell_type": "code",
   "execution_count": null,
   "id": "0a3dbe6a-6614-47f3-8881-d76fb6a613db",
   "metadata": {},
   "outputs": [],
   "source": [
    "json.dumps(res, indent=4)"
   ]
  },
  {
   "cell_type": "code",
   "execution_count": null,
   "id": "3ae751f3-bfeb-4c70-9f2b-cd2bfeb45bd5",
   "metadata": {},
   "outputs": [],
   "source": [
    "res=es.search(index=\"harvardmetadata\", doc_type=\"_doc\", body={\"query\": {\"match_all\":{}}})"
   ]
  },
  {
   "cell_type": "code",
   "execution_count": null,
   "id": "a850d05b-8205-42ce-9593-bce4573fe990",
   "metadata": {},
   "outputs": [],
   "source": [
    "print(res)"
   ]
  },
  {
   "cell_type": "code",
   "execution_count": null,
   "id": "282cbb9c-7a38-4143-85d7-0af46db9deb1",
   "metadata": {},
   "outputs": [],
   "source": [
    "'\"https://doi.org/10.11588/data/0HJAJS\"'"
   ]
  },
  {
   "cell_type": "code",
   "execution_count": null,
   "id": "2d86ab7a-09a0-43d2-b8a1-3a5e00f1c4fb",
   "metadata": {},
   "outputs": [],
   "source": [
    "file='harvard_dataverse.json'\n",
    "\n",
    "datafile=open(file, 'r').read()\n",
    "\n",
    "clear_data = datafile.splitlines(True)"
   ]
  },
  {
   "cell_type": "code",
   "execution_count": null,
   "id": "e99c8982",
   "metadata": {
    "tags": []
   },
   "outputs": [],
   "source": [
    "# Load file\n",
    "\n",
    "file='harvard_dataverse.json'\n",
    "\n",
    "with open(file, 'r', encoding='utf-8') as f:\n",
    "    data=json.loads(f.read())\n",
    "\n",
    "print(len(data))\n"
   ]
  },
  {
   "cell_type": "code",
   "execution_count": null,
   "id": "4fae693d-3bdf-4ab1-a71f-1935f10bede0",
   "metadata": {},
   "outputs": [],
   "source": [
    "data[1]"
   ]
  },
  {
   "cell_type": "code",
   "execution_count": null,
   "id": "973907db",
   "metadata": {},
   "outputs": [],
   "source": [
    "es.index(index=\"my_index\", doc_type='doc', body=data[5])#data)\n"
   ]
  },
  {
   "cell_type": "code",
   "execution_count": null,
   "id": "9f8d27dd-b8e2-4b3a-88db-9fde1e95f190",
   "metadata": {},
   "outputs": [],
   "source": [
    "es.get(index='my_index', doc_type='doc', id='O38Z4HoBoYEF2rZ_i1Q0')\n"
   ]
  },
  {
   "cell_type": "code",
   "execution_count": null,
   "id": "4297e1e3",
   "metadata": {},
   "outputs": [],
   "source": [
    "es.index(index=\"my_index\", doc_type='doc', body=data[6])#data)\n"
   ]
  }
 ],
 "metadata": {
  "kernelspec": {
   "display_name": "Python 3",
   "language": "python",
   "name": "python3"
  },
  "language_info": {
   "codemirror_mode": {
    "name": "ipython",
    "version": 3
   },
   "file_extension": ".py",
   "mimetype": "text/x-python",
   "name": "python",
   "nbconvert_exporter": "python",
   "pygments_lexer": "ipython3",
   "version": "3.9.6"
  }
 },
 "nbformat": 4,
 "nbformat_minor": 5
}
