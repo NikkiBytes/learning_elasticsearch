{
 "cells": [
  {
   "cell_type": "markdown",
   "id": "e1f545b0-6bb0-4912-876f-a76db16d5a05",
   "metadata": {},
   "source": [
    "# Learning Elasticsearch (with Python)"
   ]
  },
  {
   "cell_type": "markdown",
   "id": "1acd146d-4238-4afd-91b7-5510aea61d74",
   "metadata": {},
   "source": [
    "## What is Elasticsearch?  \n",
    "> Elasticsearch (ES) is a distributed, real-time, search and analytics platform.     \n",
    "\n",
    "**Distibuted**: meaning it organizes information in clusters of nodes, so it will run in multiple servers if we intend it.  \n",
    "**Real-time**: data is indexed, therefore we get responses to our queries quickly.   \n",
    " \n",
    "**The main problem being solved with this tool is exploring data**.   \n",
    "*\"A platform like ES is the foundation for any respectable search engine.\"*  \n",
    "  \n",
    "## How does it work?  \n",
    "Using a restful API, ES will save and index data automatically. By assigning types to fields a search can be done using filters and queries. It uses JVM in order to be fast. Indexes are distributed in <u>shards</u> of data. ES will replicate shards in different nodes, making it distbuted and therefore clusters are able to function, even if not all required nodes are operational. It is also scalable because adding nodes is simple.   \n",
    "ES uses Lucene to solve searches, allowing us to perform searches using json objects as parameters. Each search parameter within an object has a different weight, importance and/or priority. This final result ranks objects that comply with the search query requirements.  \n",
    "  \n",
    "\n",
    "## Easy first steps with ES?  \n",
    "\n"
   ]
  },
  {
   "cell_type": "code",
   "execution_count": 8,
   "id": "2487346b-e48b-4e78-96cb-32f24ae22cf0",
   "metadata": {},
   "outputs": [
    {
     "name": "stdout",
     "output_type": "stream",
     "text": [
      "['C:\\\\Users\\\\19802\\\\Documents\\\\dev\\\\coding_challege_su_lab', 'C:\\\\Python39\\\\python39.zip', 'C:\\\\Python39\\\\DLLs', 'C:\\\\Python39\\\\lib', 'C:\\\\Python39', '', 'C:\\\\Python39\\\\lib\\\\site-packages', 'C:\\\\Python39\\\\lib\\\\site-packages\\\\win32', 'C:\\\\Python39\\\\lib\\\\site-packages\\\\win32\\\\lib', 'C:\\\\Python39\\\\lib\\\\site-packages\\\\Pythonwin', 'C:\\\\Python39\\\\lib\\\\site-packages\\\\IPython\\\\extensions', 'C:\\\\Users\\\\19802\\\\.ipython']\n"
     ]
    }
   ],
   "source": [
    "import sys\n",
    "print(sys.path)"
   ]
  },
  {
   "cell_type": "markdown",
   "id": "056991e3-a4e7-48db-b242-2f1ed6f955f0",
   "metadata": {},
   "source": [
    "## References\n",
    "[Install elasticsearch](https://stackoverflow.com/questions/51599961/no-module-named-elasticsearch-jupyter)  \n",
    "[Python + Elasticsearch. First steps](https://tryolabs.com/blog/2015/02/17/python-elasticsearch-first-steps/)  \n",
    "https://stackoverflow.com/questions/52858930/python-insert-json-file-into-elasticsearch  \n",
    "https://stackoverflow.com/questions/43981275/index-json-files-in-elasticsearch-using-python  \n",
    "https://stackoverflow.com/questions/63099041/index-special-json-file-in-elasticsearch-py  \n",
    "https://stackoverflow.com/questions/37876104/elasticsearch-failed-to-connect-to-localhost-port-9200-connection-refused  \n",
    "https://www.elastic.co/guide/en/elastic-stack-get-started/current/get-started-elastic-stack.html  \n",
    "\n",
    "https://towardsdatascience.com/getting-started-with-elasticsearch-in-python-c3598e718380"
   ]
  },
  {
   "cell_type": "markdown",
   "id": "81fb9d4c-5b43-4ffc-84bc-edc7189ff553",
   "metadata": {},
   "source": [
    "---"
   ]
  }
 ],
 "metadata": {
  "kernelspec": {
   "display_name": "Python 3",
   "language": "python",
   "name": "python3"
  },
  "language_info": {
   "codemirror_mode": {
    "name": "ipython",
    "version": 3
   },
   "file_extension": ".py",
   "mimetype": "text/x-python",
   "name": "python",
   "nbconvert_exporter": "python",
   "pygments_lexer": "ipython3",
   "version": "3.9.6"
  }
 },
 "nbformat": 4,
 "nbformat_minor": 5
}
